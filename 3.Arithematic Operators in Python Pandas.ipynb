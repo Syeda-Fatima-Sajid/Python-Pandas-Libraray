{
 "cells": [
  {
   "cell_type": "markdown",
   "id": "c6fdef05-e2a2-4ae9-a34a-5bfff1ac8672",
   "metadata": {},
   "source": [
    "Arithematic Operators"
   ]
  },
  {
   "cell_type": "code",
   "execution_count": 4,
   "id": "6533fecc-6b4b-4721-bce5-21c8c95e9294",
   "metadata": {},
   "outputs": [
    {
     "name": "stdout",
     "output_type": "stream",
     "text": [
      "   A  B   C\n",
      "0  1  6   7\n",
      "1  2  7   9\n",
      "2  3  8  11\n",
      "3  4  9  13\n"
     ]
    }
   ],
   "source": [
    "import pandas as pd\n",
    "#Addition\n",
    "var=pd.DataFrame({\"A\":[1,2,3,4],\"B\":[6,7,8,9]})\n",
    "var[\"C\"]=var[\"A\"]+var[\"B\"]\n",
    "print(var)\n"
   ]
  },
  {
   "cell_type": "code",
   "execution_count": 5,
   "id": "3106e1e7-bf44-494b-8ee9-57868de0a366",
   "metadata": {},
   "outputs": [
    {
     "name": "stdout",
     "output_type": "stream",
     "text": [
      "   A  B  C\n",
      "0  1  6 -5\n",
      "1  2  7 -5\n",
      "2  3  8 -5\n",
      "3  4  9 -5\n"
     ]
    }
   ],
   "source": [
    "#Subtraction\n",
    "var=pd.DataFrame({\"A\":[1,2,3,4],\"B\":[6,7,8,9]})\n",
    "var[\"C\"]=var[\"A\"]-var[\"B\"]\n",
    "print(var)"
   ]
  },
  {
   "cell_type": "code",
   "execution_count": 6,
   "id": "9ee6d06c-165a-4886-8474-2823bcd02a75",
   "metadata": {},
   "outputs": [
    {
     "name": "stdout",
     "output_type": "stream",
     "text": [
      "   A  B   C\n",
      "0  1  6   6\n",
      "1  2  7  14\n",
      "2  3  8  24\n",
      "3  4  9  36\n"
     ]
    }
   ],
   "source": [
    "#Multiplication\n",
    "var=pd.DataFrame({\"A\":[1,2,3,4],\"B\":[6,7,8,9]})\n",
    "var[\"C\"]=var[\"A\"]*var[\"B\"]\n",
    "print(var)"
   ]
  },
  {
   "cell_type": "code",
   "execution_count": 7,
   "id": "a47e1bc0-7162-40ef-b747-d5016acd2690",
   "metadata": {},
   "outputs": [
    {
     "name": "stdout",
     "output_type": "stream",
     "text": [
      "   A  B         C\n",
      "0  1  6  0.166667\n",
      "1  2  7  0.285714\n",
      "2  3  8  0.375000\n",
      "3  4  9  0.444444\n"
     ]
    }
   ],
   "source": [
    "#Divion\n",
    "var=pd.DataFrame({\"A\":[1,2,3,4],\"B\":[6,7,8,9]})\n",
    "var[\"C\"]=var[\"A\"]/var[\"B\"]\n",
    "print(var)"
   ]
  },
  {
   "cell_type": "code",
   "execution_count": 15,
   "id": "1ab0609a-bd5c-4268-b305-304a493eadf0",
   "metadata": {},
   "outputs": [
    {
     "name": "stdout",
     "output_type": "stream",
     "text": [
      "   A  B  C\n",
      "0  1  6  0\n",
      "1  2  7  1\n",
      "2  3  8  2\n",
      "3  4  9  1\n"
     ]
    }
   ],
   "source": [
    "#modulus\n",
    "var=pd.DataFrame({\"A\":[1,2,3,4],\"B\":[6,7,8,9]})\n",
    "var[\"C\"]=var[\"B\"] % var[\"A\"]\n",
    "print(var)\n"
   ]
  },
  {
   "cell_type": "code",
   "execution_count": 12,
   "id": "cd798157-10e9-494f-8f61-713496234081",
   "metadata": {},
   "outputs": [
    {
     "name": "stdout",
     "output_type": "stream",
     "text": [
      "    A   B  Result\n",
      "0  20   6    True\n",
      "1  21  11    True\n",
      "2  33  12   False\n",
      "3  42   3   False\n"
     ]
    }
   ],
   "source": [
    "#logical\n",
    "var1=pd.DataFrame({\"A\":[20,21,33,42],\"B\":[6,11,12,3]})\n",
    "var1[\"Result\"]=var1[\"A\"] <=30\n",
    "print(var1)"
   ]
  },
  {
   "cell_type": "code",
   "execution_count": null,
   "id": "af6a4505-af4a-40d8-b6de-a1c73a71d8c0",
   "metadata": {},
   "outputs": [],
   "source": []
  }
 ],
 "metadata": {
  "kernelspec": {
   "display_name": "Python 3 (ipykernel)",
   "language": "python",
   "name": "python3"
  },
  "language_info": {
   "codemirror_mode": {
    "name": "ipython",
    "version": 3
   },
   "file_extension": ".py",
   "mimetype": "text/x-python",
   "name": "python",
   "nbconvert_exporter": "python",
   "pygments_lexer": "ipython3",
   "version": "3.12.4"
  }
 },
 "nbformat": 4,
 "nbformat_minor": 5
}
