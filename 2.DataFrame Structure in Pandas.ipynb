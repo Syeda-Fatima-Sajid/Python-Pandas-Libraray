{
 "cells": [
  {
   "cell_type": "markdown",
   "id": "4abb1ab9-0f0b-4f5a-9060-91ffe947d916",
   "metadata": {},
   "source": [
    "DataFrame Structure in Pandas"
   ]
  },
  {
   "cell_type": "code",
   "execution_count": 5,
   "id": "4a9f0cea-76e1-4541-bd89-8460a4febc1d",
   "metadata": {},
   "outputs": [
    {
     "name": "stdout",
     "output_type": "stream",
     "text": [
      "   0\n",
      "0  1\n",
      "1  2\n",
      "2  3\n",
      "3  4\n",
      "<class 'pandas.core.frame.DataFrame'>\n"
     ]
    }
   ],
   "source": [
    "import pandas as pd\n",
    "l=[1,2,3,4]\n",
    "#make  dataframe  with help of list\n",
    "df=pd.DataFrame(l)\n",
    "print(df)\n",
    "#check datatype of df\n",
    "print(type(df))"
   ]
  },
  {
   "cell_type": "code",
   "execution_count": 6,
   "id": "e606169f-b3b0-4bef-bcfc-33187e051d6c",
   "metadata": {},
   "outputs": [
    {
     "name": "stdout",
     "output_type": "stream",
     "text": [
      "   a  b\n",
      "0  1  1\n",
      "1  2  2\n",
      "2  3  3\n",
      "3  4  4\n"
     ]
    }
   ],
   "source": [
    "#make dataframe with help of dictionary\n",
    "#if dictionary is not balanced then whSen DataFrame if made it produces error\n",
    "a={\"a\":[1,2,3,4],\"b\":[1,2,3,4]}\n",
    "var1=pd.DataFrame(a)\n",
    "print(var1)\n"
   ]
  },
  {
   "cell_type": "code",
   "execution_count": 7,
   "id": "d9e18bd8-9643-41ac-950f-cdbce51bfef2",
   "metadata": {},
   "outputs": [
    {
     "name": "stdout",
     "output_type": "stream",
     "text": [
      "   a  1\n",
      "0  1  9\n",
      "1  2  8\n",
      "2  3  2\n",
      "3  4  3\n"
     ]
    }
   ],
   "source": [
    "#if speific colomns of dicionary are reqiured\n",
    "\n",
    "a={\"a\":[1,2,3,4],\"b\":[1,2,13,4],\"c\":[1,2,3,4,],1:[9,8,2,3]}\n",
    "var1=pd.DataFrame(a,columns=[\"a\",1])\n",
    "print(var1)\n"
   ]
  },
  {
   "cell_type": "code",
   "execution_count": 8,
   "id": "aaae19ba-d5c2-45a8-8319-2c0efe133f54",
   "metadata": {},
   "outputs": [
    {
     "name": "stdout",
     "output_type": "stream",
     "text": [
      "3\n"
     ]
    }
   ],
   "source": [
    "#if want to get specific data\n",
    "print(var1[\"a\"][2])"
   ]
  },
  {
   "cell_type": "code",
   "execution_count": 11,
   "id": "33d1e8ae-f3bd-4410-887f-556a815b4015",
   "metadata": {},
   "outputs": [
    {
     "name": "stdout",
     "output_type": "stream",
     "text": [
      "   0  1  2  3\n",
      "0  1  2  3  4\n",
      "1  5  6  7  8\n"
     ]
    }
   ],
   "source": [
    "#make dataframe with help of list in list\n",
    "a=[[1,2,3,4],[5,6,7,8]]\n",
    "var1=pd.DataFrame(a)\n",
    "print(var1)\n"
   ]
  },
  {
   "cell_type": "code",
   "execution_count": 14,
   "id": "1c0c2b93-b596-4630-bfbf-a8a93aff5da6",
   "metadata": {},
   "outputs": [
    {
     "name": "stdout",
     "output_type": "stream",
     "text": [
      "   a  b\n",
      "0  1  1\n",
      "1  2  2\n",
      "2  3  3\n",
      "3  4  4\n"
     ]
    }
   ],
   "source": [
    "#make dataframe with help sereis\n",
    "a={\"a\":pd.Series([1,2,3,4]),\"b\":pd.Series([1,2,3,4])}\n",
    "var1=pd.DataFrame(a)\n",
    "print(var1)\n"
   ]
  },
  {
   "cell_type": "code",
   "execution_count": null,
   "id": "e121657a-138a-4e67-afbc-32bac8ea82bb",
   "metadata": {},
   "outputs": [],
   "source": []
  }
 ],
 "metadata": {
  "kernelspec": {
   "display_name": "Python 3 (ipykernel)",
   "language": "python",
   "name": "python3"
  },
  "language_info": {
   "codemirror_mode": {
    "name": "ipython",
    "version": 3
   },
   "file_extension": ".py",
   "mimetype": "text/x-python",
   "name": "python",
   "nbconvert_exporter": "python",
   "pygments_lexer": "ipython3",
   "version": "3.12.4"
  }
 },
 "nbformat": 4,
 "nbformat_minor": 5
}
