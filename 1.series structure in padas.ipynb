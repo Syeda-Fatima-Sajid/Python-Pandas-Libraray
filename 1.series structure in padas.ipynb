{
 "cells": [
  {
   "cell_type": "markdown",
   "id": "093baa14-0795-467d-ba13-61b10b417e53",
   "metadata": {},
   "source": [
    "Seies Data Structure in Pandas"
   ]
  },
  {
   "cell_type": "code",
   "execution_count": null,
   "id": "1f0ea38b-86df-4364-a49d-fc9ebdc43a07",
   "metadata": {},
   "outputs": [],
   "source": [
    "import pandas as pd"
   ]
  },
  {
   "cell_type": "code",
   "execution_count": 2,
   "id": "22ab1c29-ddfc-45de-b6ff-4fb4a8b8d323",
   "metadata": {},
   "outputs": [
    {
     "name": "stdout",
     "output_type": "stream",
     "text": [
      "0     2\n",
      "1     5\n",
      "2     8\n",
      "3    91\n",
      "4     1\n",
      "dtype: int64\n"
     ]
    }
   ],
   "source": [
    "#we make list and store its data in series form\n",
    "a=[2,5,8,91,1]\n",
    "var=pd.Series(a)\n",
    "print(var)"
   ]
  },
  {
   "cell_type": "code",
   "execution_count": 7,
   "id": "7d7c3f1b-de0c-4e0a-8589-145a4c48d5a5",
   "metadata": {},
   "outputs": [
    {
     "name": "stdout",
     "output_type": "stream",
     "text": [
      "<class 'pandas.core.series.Series'>\n"
     ]
    }
   ],
   "source": [
    "#to fimd wheather this series is pandas series or not\n",
    "print(type(var))"
   ]
  },
  {
   "cell_type": "raw",
   "id": "d0cfa044-5f16-4ac8-ae31-f4f9cd0d9f10",
   "metadata": {},
   "source": [
    "#change index of list and datat,ype\n",
    "var1=pd.Series(a,index=['a','b','c','d','e'],dtype=\"float\")\n",
    "print(var1)"
   ]
  },
  {
   "cell_type": "code",
   "execution_count": 11,
   "id": "69956132-b424-4d7f-b8bb-d1603362aa21",
   "metadata": {},
   "outputs": [
    {
     "name": "stdout",
     "output_type": "stream",
     "text": [
      "1    12\n",
      "2    12\n",
      "3    12\n",
      "4    12\n",
      "5    12\n",
      "dtype: int64\n"
     ]
    }
   ],
   "source": [
    "#to make series from sinle data,to make multiple values\n",
    "\n",
    "s=pd.Series(12,index=[1,2,3,4,5])\n",
    "print(s)"
   ]
  },
  {
   "cell_type": "markdown",
   "id": "2d33ed7c-ec39-455d-a0bf-e0094827e3a4",
   "metadata": {},
   "source": [
    "\n"
   ]
  },
  {
   "cell_type": "code",
   "execution_count": 12,
   "id": "c971111b-9cc2-4ed2-b428-799145fb1185",
   "metadata": {},
   "outputs": [
    {
     "name": "stdout",
     "output_type": "stream",
     "text": [
      "1    24.0\n",
      "2    24.0\n",
      "3    24.0\n",
      "4     NaN\n",
      "5     NaN\n",
      "6     NaN\n",
      "7     NaN\n",
      "dtype: float64\n"
     ]
    }
   ],
   "source": [
    "#handle missing data\n",
    "s1=pd.Series(12,index=[1,2,3,4,5,6,7])\n",
    "s2=pd.Series(12,index=[1,2,3])\n",
    "print(s1+s2)"
   ]
  },
  {
   "cell_type": "code",
   "execution_count": null,
   "id": "fe7c05ad-fdda-45d4-9f07-dcaeaaa7a40b",
   "metadata": {},
   "outputs": [],
   "source": []
  }
 ],
 "metadata": {
  "kernelspec": {
   "display_name": "Python 3 (ipykernel)",
   "language": "python",
   "name": "python3"
  },
  "language_info": {
   "codemirror_mode": {
    "name": "ipython",
    "version": 3
   },
   "file_extension": ".py",
   "mimetype": "text/x-python",
   "name": "python",
   "nbconvert_exporter": "python",
   "pygments_lexer": "ipython3",
   "version": "3.12.4"
  }
 },
 "nbformat": 4,
 "nbformat_minor": 5
}
