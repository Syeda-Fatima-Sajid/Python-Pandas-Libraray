{
 "cells": [
  {
   "cell_type": "markdown",
   "id": "1b6e5686-d90c-4786-a88c-1ae111a0da14",
   "metadata": {},
   "source": [
    "CVS"
   ]
  },
  {
   "cell_type": "code",
   "execution_count": 4,
   "id": "b20af79c-36d2-4ede-abe4-591ea8d66104",
   "metadata": {},
   "outputs": [
    {
     "name": "stdout",
     "output_type": "stream",
     "text": [
      "   A  B  C\n",
      "0  1  5  2\n",
      "1  2  6  3\n",
      "2  3  7  4\n",
      "3  4  8  1\n"
     ]
    }
   ],
   "source": [
    "import pandas as pd\n",
    "d={\"A\":[1,2,3,4],\"B\":[5,6,7,8],\"C\":[2,3,4,1]}\n",
    "d1=pd.DataFrame(d)\n",
    "print(d1)"
   ]
  },
  {
   "cell_type": "code",
   "execution_count": 10,
   "id": "f2a3c39c-280f-4812-bb8c-215ccf3f4f85",
   "metadata": {},
   "outputs": [],
   "source": [
    "#create csv file,remove index number in file:index=False,change colomn name:header=[1,2,3]\n",
    "d1.to_csv(\"5.create_csv_file.csv\",index=False,header=[1,2,3])"
   ]
  },
  {
   "cell_type": "code",
   "execution_count": null,
   "id": "f123f442-fd97-4c3f-a7a7-822e31f033b7",
   "metadata": {},
   "outputs": [],
   "source": []
  }
 ],
 "metadata": {
  "kernelspec": {
   "display_name": "Python 3 (ipykernel)",
   "language": "python",
   "name": "python3"
  },
  "language_info": {
   "codemirror_mode": {
    "name": "ipython",
    "version": 3
   },
   "file_extension": ".py",
   "mimetype": "text/x-python",
   "name": "python",
   "nbconvert_exporter": "python",
   "pygments_lexer": "ipython3",
   "version": "3.12.4"
  }
 },
 "nbformat": 4,
 "nbformat_minor": 5
}
