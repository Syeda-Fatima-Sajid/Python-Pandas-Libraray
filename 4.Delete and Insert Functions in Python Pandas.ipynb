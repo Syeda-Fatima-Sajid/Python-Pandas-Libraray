{
 "cells": [
  {
   "cell_type": "markdown",
   "id": "4b1c2789-630f-4ee9-850b-8df4d760414b",
   "metadata": {},
   "source": [
    "Insert\n"
   ]
  },
  {
   "cell_type": "code",
   "execution_count": 1,
   "id": "d296080a-40b8-4c6e-b14e-8bbebc96da86",
   "metadata": {},
   "outputs": [
    {
     "name": "stdout",
     "output_type": "stream",
     "text": [
      "   a   b\n",
      "0  1   1\n",
      "1  2   2\n",
      "2  3  13\n",
      "3  4   4\n"
     ]
    }
   ],
   "source": [
    "import pandas as pd\n",
    "a={\"a\":[1,2,3,4],\"b\":[1,2,13,4]}\n",
    "var1=pd.DataFrame(a)\n",
    "print(var1)\n"
   ]
  },
  {
   "cell_type": "code",
   "execution_count": 2,
   "id": "53337b6b-cb49-4980-abc4-2f3597735d79",
   "metadata": {},
   "outputs": [],
   "source": [
    "#syntax:var1.insert(index number,colomn name,values/data)\n",
    "var1.insert(1,\"insert_column1\",var1[\"a\"])"
   ]
  },
  {
   "cell_type": "code",
   "execution_count": 3,
   "id": "38481db8-121c-47dd-9c68-6fcdd7085c8f",
   "metadata": {},
   "outputs": [
    {
     "data": {
      "text/html": [
       "<div>\n",
       "<style scoped>\n",
       "    .dataframe tbody tr th:only-of-type {\n",
       "        vertical-align: middle;\n",
       "    }\n",
       "\n",
       "    .dataframe tbody tr th {\n",
       "        vertical-align: top;\n",
       "    }\n",
       "\n",
       "    .dataframe thead th {\n",
       "        text-align: right;\n",
       "    }\n",
       "</style>\n",
       "<table border=\"1\" class=\"dataframe\">\n",
       "  <thead>\n",
       "    <tr style=\"text-align: right;\">\n",
       "      <th></th>\n",
       "      <th>a</th>\n",
       "      <th>insert_column1</th>\n",
       "      <th>b</th>\n",
       "    </tr>\n",
       "  </thead>\n",
       "  <tbody>\n",
       "    <tr>\n",
       "      <th>0</th>\n",
       "      <td>1</td>\n",
       "      <td>1</td>\n",
       "      <td>1</td>\n",
       "    </tr>\n",
       "    <tr>\n",
       "      <th>1</th>\n",
       "      <td>2</td>\n",
       "      <td>2</td>\n",
       "      <td>2</td>\n",
       "    </tr>\n",
       "    <tr>\n",
       "      <th>2</th>\n",
       "      <td>3</td>\n",
       "      <td>3</td>\n",
       "      <td>13</td>\n",
       "    </tr>\n",
       "    <tr>\n",
       "      <th>3</th>\n",
       "      <td>4</td>\n",
       "      <td>4</td>\n",
       "      <td>4</td>\n",
       "    </tr>\n",
       "  </tbody>\n",
       "</table>\n",
       "</div>"
      ],
      "text/plain": [
       "   a  insert_column1   b\n",
       "0  1               1   1\n",
       "1  2               2   2\n",
       "2  3               3  13\n",
       "3  4               4   4"
      ]
     },
     "execution_count": 3,
     "metadata": {},
     "output_type": "execute_result"
    }
   ],
   "source": [
    "var1"
   ]
  },
  {
   "cell_type": "code",
   "execution_count": 4,
   "id": "0452246a-33e9-4a36-8bec-10ecfdef87dd",
   "metadata": {},
   "outputs": [
    {
     "data": {
      "text/html": [
       "<div>\n",
       "<style scoped>\n",
       "    .dataframe tbody tr th:only-of-type {\n",
       "        vertical-align: middle;\n",
       "    }\n",
       "\n",
       "    .dataframe tbody tr th {\n",
       "        vertical-align: top;\n",
       "    }\n",
       "\n",
       "    .dataframe thead th {\n",
       "        text-align: right;\n",
       "    }\n",
       "</style>\n",
       "<table border=\"1\" class=\"dataframe\">\n",
       "  <thead>\n",
       "    <tr style=\"text-align: right;\">\n",
       "      <th></th>\n",
       "      <th>a</th>\n",
       "      <th>insert_column1</th>\n",
       "      <th>b</th>\n",
       "      <th>insert_column2</th>\n",
       "    </tr>\n",
       "  </thead>\n",
       "  <tbody>\n",
       "    <tr>\n",
       "      <th>0</th>\n",
       "      <td>1</td>\n",
       "      <td>1</td>\n",
       "      <td>1</td>\n",
       "      <td>12</td>\n",
       "    </tr>\n",
       "    <tr>\n",
       "      <th>1</th>\n",
       "      <td>2</td>\n",
       "      <td>2</td>\n",
       "      <td>2</td>\n",
       "      <td>21</td>\n",
       "    </tr>\n",
       "    <tr>\n",
       "      <th>2</th>\n",
       "      <td>3</td>\n",
       "      <td>3</td>\n",
       "      <td>13</td>\n",
       "      <td>23</td>\n",
       "    </tr>\n",
       "    <tr>\n",
       "      <th>3</th>\n",
       "      <td>4</td>\n",
       "      <td>4</td>\n",
       "      <td>4</td>\n",
       "      <td>14</td>\n",
       "    </tr>\n",
       "  </tbody>\n",
       "</table>\n",
       "</div>"
      ],
      "text/plain": [
       "   a  insert_column1   b  insert_column2\n",
       "0  1               1   1              12\n",
       "1  2               2   2              21\n",
       "2  3               3  13              23\n",
       "3  4               4   4              14"
      ]
     },
     "execution_count": 4,
     "metadata": {},
     "output_type": "execute_result"
    }
   ],
   "source": [
    "var1.insert(3,\"insert_column2\",[12,21,23,14])\n",
    "var1"
   ]
  },
  {
   "cell_type": "code",
   "execution_count": 8,
   "id": "9063bc39-c02f-4e16-8ba1-3e8b1a52f756",
   "metadata": {},
   "outputs": [
    {
     "name": "stdout",
     "output_type": "stream",
     "text": [
      "   A   B    C\n",
      "0  1   1  1.0\n",
      "1  2   2  2.0\n",
      "2  3  13  NaN\n",
      "3  4   4  NaN\n"
     ]
    }
   ],
   "source": [
    "#copy limited data \n",
    "f={\"A\":[1,2,3,4],\"B\":[1,2,13,4]}\n",
    "var1=pd.DataFrame(f)\n",
    "var1[\"C\"]=var1[\"A\"][:2]\n",
    "print(var1)\n"
   ]
  },
  {
   "cell_type": "markdown",
   "id": "04895fff-efab-4c11-ad09-6c6a94165be6",
   "metadata": {},
   "source": [
    "Delete"
   ]
  },
  {
   "cell_type": "code",
   "execution_count": 9,
   "id": "d377508b-bd5c-4d66-9491-0f443efe7956",
   "metadata": {},
   "outputs": [
    {
     "name": "stdout",
     "output_type": "stream",
     "text": [
      "0     1\n",
      "1     2\n",
      "2    13\n",
      "3     4\n",
      "Name: B, dtype: int64\n"
     ]
    }
   ],
   "source": [
    "f={\"A\":[1,2,3,4],\"B\":[1,2,13,4],\"C\":[1,3,2,4]}\n",
    "var1=pd.DataFrame(f)\n",
    "var2=var1.pop(\"B\")\n",
    "print(var2)"
   ]
  },
  {
   "cell_type": "code",
   "execution_count": 10,
   "id": "efc3315d-a349-4a31-88f8-73dae94a9886",
   "metadata": {},
   "outputs": [
    {
     "name": "stdout",
     "output_type": "stream",
     "text": [
      "   A  C\n",
      "0  1  1\n",
      "1  2  3\n",
      "2  3  2\n",
      "3  4  4\n"
     ]
    }
   ],
   "source": [
    "print(var1)"
   ]
  },
  {
   "cell_type": "code",
   "execution_count": null,
   "id": "1f0b043c-8f42-4c04-bcf8-0541fe3dc64f",
   "metadata": {},
   "outputs": [],
   "source": []
  }
 ],
 "metadata": {
  "kernelspec": {
   "display_name": "Python 3 (ipykernel)",
   "language": "python",
   "name": "python3"
  },
  "language_info": {
   "codemirror_mode": {
    "name": "ipython",
    "version": 3
   },
   "file_extension": ".py",
   "mimetype": "text/x-python",
   "name": "python",
   "nbconvert_exporter": "python",
   "pygments_lexer": "ipython3",
   "version": "3.12.4"
  }
 },
 "nbformat": 4,
 "nbformat_minor": 5
}
